{
 "cells": [
  {
   "cell_type": "code",
   "execution_count": null,
   "metadata": {},
   "outputs": [],
   "source": [
    "import torch\n",
    "import transformers\n",
    "from catalyst import dl\n",
    "from src.runners import DistilMLMRunner\n",
    "from src.data import MLMDataset\n",
    "from src.models import DistilbertStudentModel, BertForMLM\n",
    "import pandas as pd"
   ]
  },
  {
   "cell_type": "code",
   "execution_count": null,
   "metadata": {},
   "outputs": [],
   "source": [
    "try:\n",
    "    train_df = pd.read_csv(\"data/lenta-ru-news.csv\")[:10000]\n",
    "    valid_df = pd.read_csv(\"data/lenta-ru-news.csv\")[10000:12000]\n",
    "except:\n",
    "    ! bin/download_lenta.sh\n",
    "    train_df = pd.read_csv(\"data/lenta-ru-news.csv\")[:10000]\n",
    "    valid_df = pd.read_csv(\"data/lenta-ru-news.csv\")[10000:12000]"
   ]
  },
  {
   "cell_type": "code",
   "execution_count": null,
   "metadata": {},
   "outputs": [],
   "source": [
    "model_name = \"DeepPavlov/rubert-base-cased\"\n",
    "\n",
    "train_dataset = MLMDataset(train_df[\"text\"], \n",
    "                           model_name=model_name)\n",
    "valid_dataset = MLMDataset(valid_df[\"text\"], \n",
    "                           model_name=model_name)\n",
    "\n",
    "train_dataloader = torch.utils.data.DataLoader(train_dataset, batch_size=2, shuffle=True)\n",
    "valid_dataloader = torch.utils.data.DataLoader(valid_dataset, batch_size=2, shuffle=True)\n",
    "loaders = {\"train\": train_dataloader, \"valid\": valid_dataloader}"
   ]
  },
  {
   "cell_type": "code",
   "execution_count": null,
   "metadata": {},
   "outputs": [],
   "source": [
    "teacher = BertForMLM(model_name)\n",
    "student = DistilbertStudentModel(model_name)\n",
    "\n",
    "model = torch.nn.ModuleDict({\"teacher\": teacher, \"student\": student})"
   ]
  },
  {
   "cell_type": "code",
   "execution_count": null,
   "metadata": {},
   "outputs": [],
   "source": [
    "runner = DistilMLMRunner(device=torch.device(\"cuda\"))\n",
    "optimizer = torch.optim.Adam(model.parameters(), lr=5e-5)\n",
    "runner.train(\n",
    "    model=torch.nn.DataParallel(model),\n",
    "    optimizer=optimizer,\n",
    "    loaders=loaders,\n",
    "    verbose=True,\n",
    "    num_epochs=10,\n",
    "    callbacks={\n",
    "        \"optimizer\": dl.OptimizerCallback(\n",
    "            metric_key=\"loss\",     # you can also pass 'mae' to optimize it instea\n",
    "            accumulation_steps=1,  # also you can pass any number of steps for gradient accumulation                           \n",
    "        )\n",
    "    }\n",
    ")"
   ]
  }
 ],
 "metadata": {
  "kernelspec": {
   "display_name": "Python 3",
   "language": "python",
   "name": "python3"
  },
  "language_info": {
   "codemirror_mode": {
    "name": "ipython",
    "version": 3
   },
   "file_extension": ".py",
   "mimetype": "text/x-python",
   "name": "python",
   "nbconvert_exporter": "python",
   "pygments_lexer": "ipython3",
   "version": "3.7.7"
  }
 },
 "nbformat": 4,
 "nbformat_minor": 4
}
